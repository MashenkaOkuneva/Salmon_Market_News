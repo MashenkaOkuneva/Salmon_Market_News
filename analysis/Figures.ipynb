{
 "cells": [
  {
   "cell_type": "markdown",
   "id": "c9438676",
   "metadata": {},
   "source": [
    "In this notebook, we visualize time series data for both the Loughran-McDonald (LM) sentiment scores and the estimated daily topics."
   ]
  },
  {
   "cell_type": "code",
   "execution_count": 1,
   "id": "35b4d960",
   "metadata": {},
   "outputs": [],
   "source": [
    "import os\n",
    "import csv\n",
    "from pathlib import Path\n",
    "import numpy as np\n",
    "import pandas as pd\n",
    "\n",
    "import matplotlib.pyplot as plt\n",
    "import seaborn as sb\n",
    "\n",
    "from matplotlib import rc\n",
    "rc('text', usetex=True)"
   ]
  },
  {
   "cell_type": "markdown",
   "id": "edc1a064",
   "metadata": {},
   "source": [
    "read data"
   ]
  },
  {
   "cell_type": "code",
   "execution_count": 2,
   "id": "c2c136f5",
   "metadata": {},
   "outputs": [],
   "source": [
    "topics_file = 'analysis_topics/daily_topics.csv'\n",
    "daily_topics = pd.read_csv(topics_file)\n",
    "\n",
    "daily_topics['dates_day'] = pd.to_datetime(daily_topics['dates_day'])"
   ]
  },
  {
   "cell_type": "code",
   "execution_count": 3,
   "id": "e468c903",
   "metadata": {},
   "outputs": [],
   "source": [
    "daily_sentiment = pd.read_excel('sentiment_daily_LM.xlsx')\n",
    "daily_sentiment['dates_day'] = pd.to_datetime(daily_sentiment['dates_day'])"
   ]
  },
  {
   "cell_type": "markdown",
   "id": "949741e0",
   "metadata": {},
   "source": [
    "Merge dataframes"
   ]
  },
  {
   "cell_type": "code",
   "execution_count": 4,
   "id": "9a1b8d37",
   "metadata": {},
   "outputs": [],
   "source": [
    "daily = daily_topics.merge(\n",
    "    daily_sentiment, \n",
    "    on='dates_day', how='inner').set_index('dates_day')"
   ]
  },
  {
   "cell_type": "code",
   "execution_count": 5,
   "id": "cec8f4b3",
   "metadata": {},
   "outputs": [],
   "source": [
    "regressors = [f'T{topic}' for topic in range(100)]"
   ]
  },
  {
   "cell_type": "code",
   "execution_count": 6,
   "id": "eaba6fb4",
   "metadata": {},
   "outputs": [],
   "source": [
    "# get topic names (first word)\n",
    "\n",
    "topics = list()\n",
    "with open('analysis_topics/topic_description.csv', 'r', encoding='utf-8-sig') as f:\n",
    "    reader = csv.reader((f))\n",
    "    for row in reader:\n",
    "        if row[0].startswith('topic'):\n",
    "            topics.append(row)\n",
    "\n",
    "# dictionary mapping topics (first words) to topic names in dataframes\n",
    "topic_dict = dict()\n",
    "for topic in topics:\n",
    "    topic_dict['T' + topic[0].replace('topic', '')] = topic[1].capitalize()"
   ]
  },
  {
   "cell_type": "code",
   "execution_count": 7,
   "id": "91a50647",
   "metadata": {},
   "outputs": [],
   "source": [
    "sb.set_style('whitegrid')"
   ]
  },
  {
   "cell_type": "markdown",
   "id": "bc09c463",
   "metadata": {},
   "source": [
    "Topics smooth"
   ]
  },
  {
   "cell_type": "code",
   "execution_count": 8,
   "id": "746e0e34",
   "metadata": {},
   "outputs": [],
   "source": [
    "%%capture\n",
    "\n",
    "X = daily[regressors + ['sentiment_LM']][30:]\n",
    "\n",
    "# size of rolling window\n",
    "window = 30\n",
    "# information textstring \n",
    "textstr = f'{window}-day moving average'\n",
    "# textbox properties\n",
    "props = dict(boxstyle='round', facecolor='white', edgecolor='black', alpha=0.5)\n",
    "\n",
    "# loop through all topics to create one line plot for each\n",
    "for x in X.columns:\n",
    "    plt.figure(figsize=(9,6))\n",
    "    ax = plt.gca()\n",
    "    # sentiment is not in the topics dictionary, need to branch it differently\n",
    "    if x == 'sentiment_LM':\n",
    "        plt.title('LM Sentiment')\n",
    "        textstr = f'{window}-day moving average'\n",
    "    else:\n",
    "        topic_name = topic_dict[x]\n",
    "        if \"_\" in topic_name:\n",
    "            topic_name = topic_name.replace(\"_\", r\"\\_\")\n",
    "        #plt.title(f'topic: {x} ({topic_name})')\n",
    "    # setting up the xaxis\n",
    "    pseudo_dates = X.index\n",
    "    # smoothen the lines a bit\n",
    "    line = X[x].rolling(window, center=True).mean()\n",
    "    # plotting the line\n",
    "    plt.plot(pseudo_dates, line, label=x, lw=0.9, c='red', ls='-', alpha=0.7)\n",
    "    # place a text box in upper left in axes coords\n",
    "    if x == 'sentiment':\n",
    "        ax.text(0.8, 0.95, textstr, transform=ax.transAxes, fontsize=18,\n",
    "                verticalalignment='top', bbox=props)\n",
    "    else:\n",
    "        ax.text(0.05, 0.95, textstr, transform=ax.transAxes, fontsize=18,\n",
    "                verticalalignment='top', bbox=props)\n",
    "        \n",
    "    ax.tick_params(axis='both', labelsize=16)\n",
    "    # save figure\n",
    "    plt.savefig(f'plots/topics_smooth/Topic{x}.png')"
   ]
  }
 ],
 "metadata": {
  "kernelspec": {
   "display_name": "FishText",
   "language": "python",
   "name": "fishtext"
  },
  "language_info": {
   "codemirror_mode": {
    "name": "ipython",
    "version": 3
   },
   "file_extension": ".py",
   "mimetype": "text/x-python",
   "name": "python",
   "nbconvert_exporter": "python",
   "pygments_lexer": "ipython3",
   "version": "3.8.5"
  }
 },
 "nbformat": 4,
 "nbformat_minor": 5
}
