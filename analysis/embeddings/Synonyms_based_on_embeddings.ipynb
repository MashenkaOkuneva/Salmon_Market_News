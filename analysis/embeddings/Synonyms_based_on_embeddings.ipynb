{
 "cells": [
  {
   "cell_type": "markdown",
   "metadata": {},
   "source": [
    "## Loading word vectors with window 10"
   ]
  },
  {
   "cell_type": "code",
   "execution_count": 1,
   "metadata": {},
   "outputs": [
    {
     "name": "stdout",
     "output_type": "stream",
     "text": [
      "11594\n"
     ]
    }
   ],
   "source": [
    "# count the number of lines in a file\n",
    "with open('my_word2vec_Fish.txt', 'r', encoding='utf-8', newline='\\n', errors='ignore') as f:\n",
    "    for i, line in enumerate(f):\n",
    "        pass\n",
    "print(i+1)"
   ]
  },
  {
   "cell_type": "code",
   "execution_count": 2,
   "metadata": {},
   "outputs": [
    {
     "name": "stdout",
     "output_type": "stream",
     "text": [
      "0:00:01.052676\n"
     ]
    }
   ],
   "source": [
    "import numpy as np\n",
    "\n",
    "# read in the embeddings\n",
    "from datetime import datetime\n",
    "startTime = datetime.now() # track time\n",
    "\n",
    "f_open =  open('my_word2vec_Fish.txt', 'r', encoding='utf-8', newline='\\n', errors='ignore')\n",
    "\n",
    "words_read = []\n",
    "embeddings_read = np.zeros((11594,256), dtype = np.float32)\n",
    "i = 0\n",
    "for line in f_open:\n",
    "    tokens = line.rstrip().split(' ')\n",
    "    words_read.append(tokens[0])\n",
    "    embeddings_read[i] = np.array(tokens[1:], dtype = np.float32)\n",
    "    i=i+1\n",
    "print(datetime.now()-startTime)"
   ]
  },
  {
   "cell_type": "code",
   "execution_count": 3,
   "metadata": {},
   "outputs": [],
   "source": [
    "# create int_to_vocab dictionaries\n",
    "int_to_vocab = {ii: word for ii, word in enumerate(words_read)}\n",
    "vocab_to_int = {word: ii for ii, word in int_to_vocab.items()}"
   ]
  },
  {
   "cell_type": "markdown",
   "metadata": {},
   "source": [
    "## Find synonyms"
   ]
  },
  {
   "cell_type": "code",
   "execution_count": 4,
   "metadata": {},
   "outputs": [],
   "source": [
    "def synonyms_emb(words, vocab, embeddings, k, int_to_v):\n",
    "    \n",
    "    # word = ['contamination']\n",
    "    # vocab = vocab_to_int\n",
    "    # embeddings = embeddings_read\n",
    "    # k - number of synonyms, k=1000\n",
    "    # int_to_v = int_to_vocab\n",
    "    \n",
    "    # covert words to integers\n",
    "    test_examples = np.array([vocab[word] for word in words]) \n",
    "    # magnitues of embeddings vectors, |b|\n",
    "    magnitudes = np.sqrt(np.square(embeddings).sum(axis=1))\n",
    "    # embeddings for the test examples\n",
    "    test_vectors = embeddings[test_examples]\n",
    "    # (almost) cosine similarities between test words and all the embeddings\n",
    "    similarities = np.matmul(test_vectors, np.transpose(embeddings))/magnitudes\n",
    "    \n",
    "    # pick k indices corresponding to the closest words, starting from the least similar to the most similar\n",
    "    closest_idxs = similarities.argsort(axis=1)[:,-k:]\n",
    "    \n",
    "    # print k closest words in the reverse order: from the most similar to the least similar\n",
    "    for ii, test_idx in enumerate(test_examples):\n",
    "        closest_words = [int_to_v[idx] for idx in closest_idxs[ii][::-1][0:]]\n",
    "        #print(int_to_v[test_idx] + \" | \" + ', '.join(closest_words))\n",
    "    return closest_words"
   ]
  },
  {
   "cell_type": "code",
   "execution_count": 5,
   "metadata": {},
   "outputs": [
    {
     "data": {
      "text/plain": [
       "['contamination',\n",
       " 'listeria',\n",
       " 'monocytogenes',\n",
       " 'xinfadi',\n",
       " 'samples',\n",
       " 'breaches',\n",
       " 'kristina',\n",
       " 'crime',\n",
       " 'andreassens',\n",
       " 'debtors',\n",
       " 'unaware',\n",
       " 'initiate',\n",
       " 'disinfect',\n",
       " 'seriousness',\n",
       " 'compliant',\n",
       " 'allegations',\n",
       " 'outer',\n",
       " 'retailing',\n",
       " 'probability',\n",
       " 'intruders',\n",
       " 'paralyzed',\n",
       " 'ingebrigtsen',\n",
       " 'drug',\n",
       " 'isolated',\n",
       " 'code',\n",
       " 'penalties',\n",
       " 'chlorine',\n",
       " 'detected',\n",
       " 'detect',\n",
       " 'monthly']"
      ]
     },
     "execution_count": 5,
     "metadata": {},
     "output_type": "execute_result"
    }
   ],
   "source": [
    "synonyms_emb(['contamination'], vocab_to_int, embeddings_read, 30, int_to_vocab)"
   ]
  }
 ],
 "metadata": {
  "kernelspec": {
   "display_name": "FishText",
   "language": "python",
   "name": "fishtext"
  },
  "language_info": {
   "codemirror_mode": {
    "name": "ipython",
    "version": 3
   },
   "file_extension": ".py",
   "mimetype": "text/x-python",
   "name": "python",
   "nbconvert_exporter": "python",
   "pygments_lexer": "ipython3",
   "version": "3.8.5"
  }
 },
 "nbformat": 4,
 "nbformat_minor": 4
}
