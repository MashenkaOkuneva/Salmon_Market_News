{
 "cells": [
  {
   "cell_type": "markdown",
   "metadata": {},
   "source": [
    "In this notebook we identify collocations by using the part-of-speech tagger. As in [Hansen (2018)](https://academic.oup.com/qje/article/133/2/801/4582916), we later use the collocations in the topic model. By collocations we understand two-word and three-word sequences that have a specific meaning (e.g., labour market)."
   ]
  },
  {
   "cell_type": "code",
   "execution_count": 1,
   "metadata": {},
   "outputs": [],
   "source": [
    "import os\n",
    "import pandas as pd\n",
    "path_to_file = os.getcwd().replace('\\\\analysis\\\\analysis_topics', '') + '\\\\finance data'\n",
    "data = pd.read_csv(path_to_file + '\\\\articles_daily_ts.csv', encoding = 'utf-8-sig', sep=';')"
   ]
  },
  {
   "cell_type": "markdown",
   "metadata": {},
   "source": [
    "We tag every word in the news articles using nltk tagger. By collocations we understand two-word (three-word) sequences that satisfy POS patterns proposed by [Justeson and Katz (1995)](https://www.cambridge.org/core/journals/natural-language-engineering/article/abs/technical-terminology-some-linguistic-properties-and-an-algorithm-for-identification-in-text/D5F076938C4E3F24B11EDC2E831216AF#access-block) and whose frequency is above 100 (50).\n",
    "\n",
    "Considered patterns are AN, NN, AAN, ANN, NAN, NNN, NPrepN where A stands for adjectives, N for nouns, and Prep for prepositions. "
   ]
  },
  {
   "cell_type": "code",
   "execution_count": 2,
   "metadata": {},
   "outputs": [],
   "source": [
    "#import nltk\n",
    "# Download the nltk_data and save it to the folder analysis_topics.\n",
    "#nltk.download()"
   ]
  },
  {
   "cell_type": "code",
   "execution_count": 3,
   "metadata": {},
   "outputs": [
    {
     "name": "stdout",
     "output_type": "stream",
     "text": [
      "0:01:28.170000\n"
     ]
    }
   ],
   "source": [
    "from datetime import datetime\n",
    "startTime = datetime.now() # track time\n",
    "\n",
    "import multiprocessing as mp\n",
    "NUM_CORE = 4\n",
    "\n",
    "import bitridic_english\n",
    "import bigrams_trigrams_multi\n",
    "import most_freq\n",
    "\n",
    "if __name__ == \"__main__\":\n",
    "    \n",
    "    list_of_texts = data.texts\n",
    "    # Split each text into sentences.\n",
    "    list_of_objects = [bitridic_english.BiTriDic(i) for i in list_of_texts]\n",
    "    \n",
    "    pool = mp.Pool(NUM_CORE)\n",
    "    # Tag each word in the news article, create a list of bigrams and trigrams satisfying the POS patterns\n",
    "    # proposed by Justeson and Katz (1995) .\n",
    "    list_of_bigrams_trigrams = pool.map(bigrams_trigrams_multi.worker_bigr_trigr, ((obj) for obj in list_of_objects))\n",
    "    pool.close()\n",
    "    pool.join()\n",
    "\n",
    "# A list of bigrams based on all articles.\n",
    "list_of_bigrams = [item[0][0] for item in list_of_bigrams_trigrams]\n",
    "# A list of trigrams based on all articles.\n",
    "list_of_trigrams = [item[1][0] for item in list_of_bigrams_trigrams]\n",
    "\n",
    "# Two-word collocations whose frequency is above 100.\n",
    "most_freq_bigrams = most_freq.most_freq(list_of_bigrams, 'bigrams', 100)\n",
    "# Three-word collocations whose frequency is above 50.\n",
    "most_freq_trigrams = most_freq.most_freq(list_of_trigrams, 'trigrams', 50)\n",
    "\n",
    "print(datetime.now()-startTime)"
   ]
  }
 ],
 "metadata": {
  "kernelspec": {
   "display_name": "py27",
   "language": "python",
   "name": "py27"
  },
  "language_info": {
   "codemirror_mode": {
    "name": "ipython",
    "version": 2
   },
   "file_extension": ".py",
   "mimetype": "text/x-python",
   "name": "python",
   "nbconvert_exporter": "python",
   "pygments_lexer": "ipython2",
   "version": "2.7.15"
  }
 },
 "nbformat": 4,
 "nbformat_minor": 4
}
