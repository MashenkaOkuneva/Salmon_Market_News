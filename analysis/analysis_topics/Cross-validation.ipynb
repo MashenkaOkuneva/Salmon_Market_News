{
 "cells": [
  {
   "cell_type": "markdown",
   "metadata": {},
   "source": [
    "We choose the number of topics K based on 10-fold cross-validation.\n",
    "\n",
    "We proceed as follows:\n",
    "\n",
    "1. Split the data set randomly into 10 folds.\n",
    "\n",
    "2.1. Estimate the LDA model on the first 9 folds which serve as a training set. Keep the last 80 samples where the chain has converged.\n",
    "\n",
    "2.2. Estimate perplexity on the 10th fold which serves as a test set. To do that, calculate perplexity for each of the 80 samples, using the formula:\n",
    "\n",
    "$ Perplexity = exp\\left(- \\frac{\\sum_{d=1}^{D}\\sum_{v=1}^{V} n_{d,v} log(\\sum_{k=1}^{K} \\hat{\\theta_{d}^{k}} \\hat{\\beta_{k}^{v}})}{\\sum_{d=1}^{D} N_d}\\right)$,\n",
    "\n",
    "where $n_{d,v}$ is a count of word $v$ in document $d$, and $N_d$ is the number of words in a document $d$. In this formula, $\\hat{\\beta_{k}^{v}}$ corresponds to the topic distributions from the LDA estimation on the train set. We re-sample $\\hat{\\theta_{d}^{k}}$ for each of the 80 samples and all the documents in the test set using 20 iterations of Gibbs sampling. The final perplexity for the 10th fold is calculated by averaging over 80 samples.\n",
    "\n",
    "3. Repeat the second step 9 more times each time changing the fold that serves as a test set.\n",
    "\n",
    "4. Calculate the final perplexity as the average over 10 folds."
   ]
  },
  {
   "cell_type": "markdown",
   "metadata": {},
   "source": [
    "We load the csv file `articles_daily_ts.csv`, where each news article is assigned a day on which market participants can react to it. The file is imported to the data frame `data`."
   ]
  },
  {
   "cell_type": "code",
   "execution_count": 1,
   "metadata": {},
   "outputs": [
    {
     "data": {
      "text/html": [
       "<div>\n",
       "<style scoped>\n",
       "    .dataframe tbody tr th:only-of-type {\n",
       "        vertical-align: middle;\n",
       "    }\n",
       "\n",
       "    .dataframe tbody tr th {\n",
       "        vertical-align: top;\n",
       "    }\n",
       "\n",
       "    .dataframe thead th {\n",
       "        text-align: right;\n",
       "    }\n",
       "</style>\n",
       "<table border=\"1\" class=\"dataframe\">\n",
       "  <thead>\n",
       "    <tr style=\"text-align: right;\">\n",
       "      <th></th>\n",
       "      <th>texts</th>\n",
       "      <th>titles</th>\n",
       "      <th>dates_day</th>\n",
       "      <th>year</th>\n",
       "      <th>month</th>\n",
       "      <th>day</th>\n",
       "    </tr>\n",
       "  </thead>\n",
       "  <tbody>\n",
       "    <tr>\n",
       "      <th>0</th>\n",
       "      <td>Chilean salmon prices see a lift in week 1. Pr...</td>\n",
       "      <td>Chilean salmon prices see a lift in week 1.</td>\n",
       "      <td>2016-01-13</td>\n",
       "      <td>2016</td>\n",
       "      <td>1</td>\n",
       "      <td>13</td>\n",
       "    </tr>\n",
       "    <tr>\n",
       "      <th>1</th>\n",
       "      <td>Nasdaq salmon price index up 48% over past thr...</td>\n",
       "      <td>Nasdaq salmon price index up 48% over past thr...</td>\n",
       "      <td>2016-01-13</td>\n",
       "      <td>2016</td>\n",
       "      <td>1</td>\n",
       "      <td>13</td>\n",
       "    </tr>\n",
       "    <tr>\n",
       "      <th>2</th>\n",
       "      <td>Great time to be in the seafood industry. Nati...</td>\n",
       "      <td>Great time to be in the seafood industry.</td>\n",
       "      <td>2016-01-18</td>\n",
       "      <td>2016</td>\n",
       "      <td>1</td>\n",
       "      <td>18</td>\n",
       "    </tr>\n",
       "    <tr>\n",
       "      <th>3</th>\n",
       "      <td>Fresh = healthy. Fresh translates to healthy i...</td>\n",
       "      <td>Fresh = healthy.</td>\n",
       "      <td>2016-01-18</td>\n",
       "      <td>2016</td>\n",
       "      <td>1</td>\n",
       "      <td>18</td>\n",
       "    </tr>\n",
       "    <tr>\n",
       "      <th>4</th>\n",
       "      <td>Shrimp to get social media revamp. The NFI Shr...</td>\n",
       "      <td>Shrimp to get social media revamp.</td>\n",
       "      <td>2016-01-18</td>\n",
       "      <td>2016</td>\n",
       "      <td>1</td>\n",
       "      <td>18</td>\n",
       "    </tr>\n",
       "  </tbody>\n",
       "</table>\n",
       "</div>"
      ],
      "text/plain": [
       "                                               texts  \\\n",
       "0  Chilean salmon prices see a lift in week 1. Pr...   \n",
       "1  Nasdaq salmon price index up 48% over past thr...   \n",
       "2  Great time to be in the seafood industry. Nati...   \n",
       "3  Fresh = healthy. Fresh translates to healthy i...   \n",
       "4  Shrimp to get social media revamp. The NFI Shr...   \n",
       "\n",
       "                                              titles   dates_day  year  month  \\\n",
       "0        Chilean salmon prices see a lift in week 1.  2016-01-13  2016      1   \n",
       "1  Nasdaq salmon price index up 48% over past thr...  2016-01-13  2016      1   \n",
       "2          Great time to be in the seafood industry.  2016-01-18  2016      1   \n",
       "3                                   Fresh = healthy.  2016-01-18  2016      1   \n",
       "4                 Shrimp to get social media revamp.  2016-01-18  2016      1   \n",
       "\n",
       "   day  \n",
       "0   13  \n",
       "1   13  \n",
       "2   18  \n",
       "3   18  \n",
       "4   18  "
      ]
     },
     "execution_count": 1,
     "metadata": {},
     "output_type": "execute_result"
    }
   ],
   "source": [
    "import os\n",
    "import pandas as pd\n",
    "path_to_file = os.getcwd().replace('\\\\analysis\\\\analysis_topics', '') + '\\\\finance data'\n",
    "data = pd.read_csv(path_to_file + '\\\\articles_daily_ts.csv', encoding = 'utf-8-sig', sep=';')\n",
    "\n",
    "data = data.rename(columns = {\"dates\": \"dates_day\"})\n",
    "data.head()"
   ]
  },
  {
   "cell_type": "markdown",
   "metadata": {},
   "source": [
    "Pre-process the data in the same way as discussed in the notebook `LDA`."
   ]
  },
  {
   "cell_type": "code",
   "execution_count": 2,
   "metadata": {},
   "outputs": [
    {
     "name": "stdout",
     "output_type": "stream",
     "text": [
      "number of unique stems = 11666\n",
      "number of total stems = 804666\n"
     ]
    }
   ],
   "source": [
    "import topicmodels\n",
    "docsobj = topicmodels.RawDocs(data.texts, \"long\")\n",
    "docsobj.token_clean(1)\n",
    "docsobj.stopword_remove(\"tokens\")\n",
    "docsobj.words_remove(docsobj.journalist_names)\n",
    "docsobj.stem()\n",
    "docsobj.stopword_remove('stems')\n",
    "docsobj.term_rank(\"stems\")\n",
    "docsobj.rank_remove(\"tfidf\",\"stems\",docsobj.tfidf_ranking[12500][1])\n",
    "all_stems = [s for d in docsobj.stems for s in d]\n",
    "print(\"number of unique stems = %d\" % len(set(all_stems)))\n",
    "print(\"number of total stems = %d\" % len(all_stems))"
   ]
  },
  {
   "cell_type": "markdown",
   "metadata": {},
   "source": [
    "Randomly split the data set into 10 equally-sized folds."
   ]
  },
  {
   "cell_type": "code",
   "execution_count": 3,
   "metadata": {},
   "outputs": [],
   "source": [
    "from sklearn.model_selection import ShuffleSplit\n",
    "ss = ShuffleSplit(n_splits=10, test_size=0.10, random_state=0)\n",
    "indices = list(ss.split(docsobj.stems))"
   ]
  },
  {
   "cell_type": "markdown",
   "metadata": {},
   "source": [
    "Create two arrays `train` and `test`. Each of the 10 elements of the `train` array is a list of pre-processed documents that serve as a train set in the current iteration of the cross-validation algorithm. "
   ]
  },
  {
   "cell_type": "code",
   "execution_count": 4,
   "metadata": {},
   "outputs": [],
   "source": [
    "import numpy as np\n",
    "train = []\n",
    "test = []\n",
    "for s in range(10):\n",
    "    train.append(np.array(docsobj.stems)[indices[s][0]])\n",
    "    test.append(np.array(docsobj.stems)[indices[s][1]])    "
   ]
  },
  {
   "cell_type": "markdown",
   "metadata": {},
   "source": [
    "Run cross-validation algorithm for K in $\\{10,20,...,200\\}$."
   ]
  },
  {
   "cell_type": "code",
   "execution_count": 5,
   "metadata": {},
   "outputs": [
    {
     "name": "stdout",
     "output_type": "stream",
     "text": [
      "2 days, 6:55:55.564000\n"
     ]
    }
   ],
   "source": [
    "from datetime import datetime\n",
    "from statistics import mean\n",
    "import multiprocessing as mp\n",
    "# Set the number of cores to use\n",
    "NUM_CORE = mp.cpu_count()-4\n",
    "startTime = datetime.now()\n",
    "\n",
    "import cross_val\n",
    "\n",
    "perplexity_k = []\n",
    "for k in range(10, 210, 10):\n",
    "    train_test_data = list(zip(train,test,[k for i in range(10)]))\n",
    "    if __name__ == \"__main__\":\n",
    "        pool = mp.Pool(NUM_CORE)\n",
    "        perplexity_test = pool.map(cross_val.cross_val, train_test_data) \n",
    "        perplexity_k.append(mean(perplexity_test))\n",
    "        pool.close()\n",
    "        pool.join()\n",
    "\n",
    "print(datetime.now()-startTime)"
   ]
  },
  {
   "cell_type": "markdown",
   "metadata": {},
   "source": [
    "Choose an optimal K based on the following graph, where y-axis corresponds to the perplexity values, and x-axis corresponds to the number of topics."
   ]
  },
  {
   "cell_type": "code",
   "execution_count": 6,
   "metadata": {},
   "outputs": [
    {
     "data": {
      "image/png": "[encoded data removed]",
      "text/plain": [
       "<Figure size 432x288 with 1 Axes>"
      ]
     },
     "metadata": {
      "needs_background": "light"
     },
     "output_type": "display_data"
    }
   ],
   "source": [
    "import matplotlib.pyplot as plt\n",
    "plt.plot(range(len(perplexity_k)), perplexity_k)\n",
    "plt.xticks(range(len(perplexity_k)), [i if i in range(10,210,20) else '' for i in range(10,210,10)])\n",
    "plt.axvline(x = 9, color = 'black',  linestyle='dashed')\n",
    "plt.xlabel('Number of Topics')\n",
    "plt.show()"
   ]
  },
  {
   "cell_type": "code",
   "execution_count": 7,
   "metadata": {},
   "outputs": [],
   "source": [
    "np.savetxt(\"perplexity_k.csv\", perplexity_k, delimiter =  \".\", fmt='%10.5f')"
   ]
  }
 ],
 "metadata": {
  "kernelspec": {
   "display_name": "py27",
   "language": "python",
   "name": "py27"
  },
  "language_info": {
   "codemirror_mode": {
    "name": "ipython",
    "version": 2
   },
   "file_extension": ".py",
   "mimetype": "text/x-python",
   "name": "python",
   "nbconvert_exporter": "python",
   "pygments_lexer": "ipython2",
   "version": "2.7.15"
  }
 },
 "nbformat": 4,
 "nbformat_minor": 4
}
