{
 "cells": [
  {
   "cell_type": "markdown",
   "id": "c1478007",
   "metadata": {},
   "source": [
    "## Find competitors\n",
    "\n",
    "Notebook to work out a function that finds articles about competitors"
   ]
  },
  {
   "cell_type": "code",
   "execution_count": 1,
   "id": "39d926ef",
   "metadata": {},
   "outputs": [],
   "source": [
    "import os\n",
    "import pandas as pd\n",
    "import numpy as np\n",
    "path_to_file = os.getcwd().replace('\\\\analysis', '') + '\\\\finance data'\n",
    "data_daily = pd.read_csv(path_to_file + '\\\\articles_daily_ts.csv', encoding = 'utf-8-sig', sep=';')"
   ]
  },
  {
   "cell_type": "code",
   "execution_count": 2,
   "id": "3e56d263",
   "metadata": {},
   "outputs": [
    {
     "data": {
      "text/html": [
       "<div>\n",
       "<style scoped>\n",
       "    .dataframe tbody tr th:only-of-type {\n",
       "        vertical-align: middle;\n",
       "    }\n",
       "\n",
       "    .dataframe tbody tr th {\n",
       "        vertical-align: top;\n",
       "    }\n",
       "\n",
       "    .dataframe thead th {\n",
       "        text-align: right;\n",
       "    }\n",
       "</style>\n",
       "<table border=\"1\" class=\"dataframe\">\n",
       "  <thead>\n",
       "    <tr style=\"text-align: right;\">\n",
       "      <th></th>\n",
       "      <th>texts</th>\n",
       "      <th>titles</th>\n",
       "      <th>dates_day</th>\n",
       "      <th>year</th>\n",
       "      <th>month</th>\n",
       "      <th>day</th>\n",
       "    </tr>\n",
       "  </thead>\n",
       "  <tbody>\n",
       "    <tr>\n",
       "      <th>0</th>\n",
       "      <td>Chilean salmon prices see a lift in week 1. Pr...</td>\n",
       "      <td>Chilean salmon prices see a lift in week 1.</td>\n",
       "      <td>2016-01-13</td>\n",
       "      <td>2016</td>\n",
       "      <td>1</td>\n",
       "      <td>13</td>\n",
       "    </tr>\n",
       "    <tr>\n",
       "      <th>1</th>\n",
       "      <td>Nasdaq salmon price index up 48% over past thr...</td>\n",
       "      <td>Nasdaq salmon price index up 48% over past thr...</td>\n",
       "      <td>2016-01-13</td>\n",
       "      <td>2016</td>\n",
       "      <td>1</td>\n",
       "      <td>13</td>\n",
       "    </tr>\n",
       "    <tr>\n",
       "      <th>2</th>\n",
       "      <td>Great time to be in the seafood industry. Nati...</td>\n",
       "      <td>Great time to be in the seafood industry.</td>\n",
       "      <td>2016-01-18</td>\n",
       "      <td>2016</td>\n",
       "      <td>1</td>\n",
       "      <td>18</td>\n",
       "    </tr>\n",
       "    <tr>\n",
       "      <th>3</th>\n",
       "      <td>Fresh = healthy. Fresh translates to healthy i...</td>\n",
       "      <td>Fresh = healthy.</td>\n",
       "      <td>2016-01-18</td>\n",
       "      <td>2016</td>\n",
       "      <td>1</td>\n",
       "      <td>18</td>\n",
       "    </tr>\n",
       "    <tr>\n",
       "      <th>4</th>\n",
       "      <td>Shrimp to get social media revamp. The NFI Shr...</td>\n",
       "      <td>Shrimp to get social media revamp.</td>\n",
       "      <td>2016-01-18</td>\n",
       "      <td>2016</td>\n",
       "      <td>1</td>\n",
       "      <td>18</td>\n",
       "    </tr>\n",
       "  </tbody>\n",
       "</table>\n",
       "</div>"
      ],
      "text/plain": [
       "                                               texts  \\\n",
       "0  Chilean salmon prices see a lift in week 1. Pr...   \n",
       "1  Nasdaq salmon price index up 48% over past thr...   \n",
       "2  Great time to be in the seafood industry. Nati...   \n",
       "3  Fresh = healthy. Fresh translates to healthy i...   \n",
       "4  Shrimp to get social media revamp. The NFI Shr...   \n",
       "\n",
       "                                              titles   dates_day  year  month  \\\n",
       "0        Chilean salmon prices see a lift in week 1.  2016-01-13  2016      1   \n",
       "1  Nasdaq salmon price index up 48% over past thr...  2016-01-13  2016      1   \n",
       "2          Great time to be in the seafood industry.  2016-01-18  2016      1   \n",
       "3                                   Fresh = healthy.  2016-01-18  2016      1   \n",
       "4                 Shrimp to get social media revamp.  2016-01-18  2016      1   \n",
       "\n",
       "   day  \n",
       "0   13  \n",
       "1   13  \n",
       "2   18  \n",
       "3   18  \n",
       "4   18  "
      ]
     },
     "execution_count": 2,
     "metadata": {},
     "output_type": "execute_result"
    }
   ],
   "source": [
    "data_daily = data_daily.rename(columns = {\"dates\": \"dates_day\"})\n",
    "\n",
    "data=data_daily\n",
    "data.head()"
   ]
  },
  {
   "cell_type": "code",
   "execution_count": 3,
   "id": "98e9f89d",
   "metadata": {},
   "outputs": [],
   "source": [
    "data['texts_old'] = data['texts'].copy()"
   ]
  },
  {
   "cell_type": "code",
   "execution_count": 4,
   "id": "552467a2",
   "metadata": {},
   "outputs": [],
   "source": [
    "# list of competitor firms\n",
    "competitors = [\n",
    "    'tassal',\n",
    "    'camanchaca',\n",
    "    'cooke',\n",
    "    'thai union',\n",
    "    'scottish salmon company',\n",
    "    'nz king',\n",
    "    'nissui',\n",
    "    'trident',\n",
    "    \"young's seafood\",\n",
    "    'mariner seafood',\n",
    "    'australis',\n",
    "    'blumar',\n",
    "    'marine farm ',\n",
    "    'cermaq',\n",
    "    'multiexport',\n",
    "    'multi x',\n",
    "    'yadran',\n",
    "    'salmones austral',\n",
    "    'ventisqueros',\n",
    "    'salmonchile',\n",
    "    'russian aquaculture',\n",
    "    'nordic aquafarms',\n",
    "    'kvaroy arctic',\n",
    "    'maruha'\n",
    "]"
   ]
  },
  {
   "cell_type": "code",
   "execution_count": 5,
   "id": "3e2101bf",
   "metadata": {},
   "outputs": [],
   "source": [
    "# list of the firms in our index\n",
    "our_firms = [\n",
    "    'mowi',\n",
    "    'marine harvest',\n",
    "    'bakkafrost',\n",
    "    'salmar',\n",
    "    'grieg',\n",
    "    'leroy'\n",
    "]"
   ]
  },
  {
   "cell_type": "code",
   "execution_count": 6,
   "id": "12effacb",
   "metadata": {},
   "outputs": [],
   "source": [
    "# remove all capitalisation from the texts\n",
    "for i, text in enumerate(data['texts']):\n",
    "    data.at[i, 'texts'] = text.lower()"
   ]
  },
  {
   "cell_type": "code",
   "execution_count": 7,
   "id": "c401c2a3",
   "metadata": {},
   "outputs": [
    {
     "name": "stdout",
     "output_type": "stream",
     "text": [
      "Total (not subtracting overlaps):  2140\n"
     ]
    },
    {
     "data": {
      "text/plain": [
       "{'tassal': 83,\n",
       " 'camanchaca': 272,\n",
       " 'cooke': 283,\n",
       " 'thai union': 77,\n",
       " 'scottish salmon company': 106,\n",
       " 'nz king': 35,\n",
       " 'nissui': 42,\n",
       " 'trident': 65,\n",
       " \"young's seafood\": 27,\n",
       " 'mariner seafood': 3,\n",
       " 'australis': 112,\n",
       " 'blumar': 145,\n",
       " 'marine farm ': 7,\n",
       " 'cermaq': 301,\n",
       " 'multiexport': 123,\n",
       " 'multi x': 20,\n",
       " 'yadran': 33,\n",
       " 'salmones austral': 51,\n",
       " 'ventisqueros': 58,\n",
       " 'salmonchile': 86,\n",
       " 'russian aquaculture': 36,\n",
       " 'nordic aquafarms': 88,\n",
       " 'kvaroy arctic': 21,\n",
       " 'maruha': 66}"
      ]
     },
     "execution_count": 7,
     "metadata": {},
     "output_type": "execute_result"
    }
   ],
   "source": [
    "# number of appearances of each competitor\n",
    "apprcs = {competitor: len(data[data['texts'].str.contains(competitors[i])]) for i, competitor in enumerate(competitors)}\n",
    "print(\"Total (not subtracting overlaps): \", sum([v for k,v in apprcs.items()]))\n",
    "apprcs"
   ]
  },
  {
   "cell_type": "code",
   "execution_count": 8,
   "id": "43e60e15",
   "metadata": {},
   "outputs": [
    {
     "name": "stdout",
     "output_type": "stream",
     "text": [
      "Total (not subtracting overlaps):  2232\n"
     ]
    },
    {
     "data": {
      "text/plain": [
       "{'mowi': 637,\n",
       " 'marine harvest': 293,\n",
       " 'bakkafrost': 238,\n",
       " 'salmar': 364,\n",
       " 'grieg': 373,\n",
       " 'leroy': 327}"
      ]
     },
     "execution_count": 8,
     "metadata": {},
     "output_type": "execute_result"
    }
   ],
   "source": [
    "# number of appearances of firms in our index\n",
    "ourapps = {firm: len(data[data['texts'].str.contains(our_firms[i])]) for i, firm in enumerate(our_firms)}\n",
    "print(\"Total (not subtracting overlaps): \", sum([v for k,v in ourapps.items()]))\n",
    "ourapps"
   ]
  },
  {
   "cell_type": "code",
   "execution_count": 9,
   "id": "e2205999",
   "metadata": {},
   "outputs": [],
   "source": [
    "# use with either list of competitors or our firms\n",
    "def firms_in_article(firm_list, article):\n",
    "    for firm in firm_list:\n",
    "        if firm in article: return True\n",
    "    return False"
   ]
  },
  {
   "cell_type": "code",
   "execution_count": 10,
   "id": "c4304b9a",
   "metadata": {},
   "outputs": [
    {
     "data": {
      "text/html": [
       "<div>\n",
       "<style scoped>\n",
       "    .dataframe tbody tr th:only-of-type {\n",
       "        vertical-align: middle;\n",
       "    }\n",
       "\n",
       "    .dataframe tbody tr th {\n",
       "        vertical-align: top;\n",
       "    }\n",
       "\n",
       "    .dataframe thead th {\n",
       "        text-align: right;\n",
       "    }\n",
       "</style>\n",
       "<table border=\"1\" class=\"dataframe\">\n",
       "  <thead>\n",
       "    <tr style=\"text-align: right;\">\n",
       "      <th></th>\n",
       "      <th>texts</th>\n",
       "      <th>titles</th>\n",
       "      <th>dates_day</th>\n",
       "      <th>year</th>\n",
       "      <th>month</th>\n",
       "      <th>day</th>\n",
       "      <th>texts_old</th>\n",
       "      <th>competitors</th>\n",
       "      <th>indexfirms</th>\n",
       "    </tr>\n",
       "  </thead>\n",
       "  <tbody>\n",
       "    <tr>\n",
       "      <th>0</th>\n",
       "      <td>chilean salmon prices see a lift in week 1. pr...</td>\n",
       "      <td>Chilean salmon prices see a lift in week 1.</td>\n",
       "      <td>2016-01-13</td>\n",
       "      <td>2016</td>\n",
       "      <td>1</td>\n",
       "      <td>13</td>\n",
       "      <td>Chilean salmon prices see a lift in week 1. Pr...</td>\n",
       "      <td>0</td>\n",
       "      <td>0</td>\n",
       "    </tr>\n",
       "    <tr>\n",
       "      <th>1</th>\n",
       "      <td>nasdaq salmon price index up 48% over past thr...</td>\n",
       "      <td>Nasdaq salmon price index up 48% over past thr...</td>\n",
       "      <td>2016-01-13</td>\n",
       "      <td>2016</td>\n",
       "      <td>1</td>\n",
       "      <td>13</td>\n",
       "      <td>Nasdaq salmon price index up 48% over past thr...</td>\n",
       "      <td>0</td>\n",
       "      <td>0</td>\n",
       "    </tr>\n",
       "    <tr>\n",
       "      <th>2</th>\n",
       "      <td>great time to be in the seafood industry. nati...</td>\n",
       "      <td>Great time to be in the seafood industry.</td>\n",
       "      <td>2016-01-18</td>\n",
       "      <td>2016</td>\n",
       "      <td>1</td>\n",
       "      <td>18</td>\n",
       "      <td>Great time to be in the seafood industry. Nati...</td>\n",
       "      <td>0</td>\n",
       "      <td>0</td>\n",
       "    </tr>\n",
       "    <tr>\n",
       "      <th>3</th>\n",
       "      <td>fresh = healthy. fresh translates to healthy i...</td>\n",
       "      <td>Fresh = healthy.</td>\n",
       "      <td>2016-01-18</td>\n",
       "      <td>2016</td>\n",
       "      <td>1</td>\n",
       "      <td>18</td>\n",
       "      <td>Fresh = healthy. Fresh translates to healthy i...</td>\n",
       "      <td>0</td>\n",
       "      <td>0</td>\n",
       "    </tr>\n",
       "    <tr>\n",
       "      <th>4</th>\n",
       "      <td>shrimp to get social media revamp. the nfi shr...</td>\n",
       "      <td>Shrimp to get social media revamp.</td>\n",
       "      <td>2016-01-18</td>\n",
       "      <td>2016</td>\n",
       "      <td>1</td>\n",
       "      <td>18</td>\n",
       "      <td>Shrimp to get social media revamp. The NFI Shr...</td>\n",
       "      <td>0</td>\n",
       "      <td>0</td>\n",
       "    </tr>\n",
       "  </tbody>\n",
       "</table>\n",
       "</div>"
      ],
      "text/plain": [
       "                                               texts  \\\n",
       "0  chilean salmon prices see a lift in week 1. pr...   \n",
       "1  nasdaq salmon price index up 48% over past thr...   \n",
       "2  great time to be in the seafood industry. nati...   \n",
       "3  fresh = healthy. fresh translates to healthy i...   \n",
       "4  shrimp to get social media revamp. the nfi shr...   \n",
       "\n",
       "                                              titles   dates_day  year  month  \\\n",
       "0        Chilean salmon prices see a lift in week 1.  2016-01-13  2016      1   \n",
       "1  Nasdaq salmon price index up 48% over past thr...  2016-01-13  2016      1   \n",
       "2          Great time to be in the seafood industry.  2016-01-18  2016      1   \n",
       "3                                   Fresh = healthy.  2016-01-18  2016      1   \n",
       "4                 Shrimp to get social media revamp.  2016-01-18  2016      1   \n",
       "\n",
       "   day                                          texts_old  competitors  \\\n",
       "0   13  Chilean salmon prices see a lift in week 1. Pr...            0   \n",
       "1   13  Nasdaq salmon price index up 48% over past thr...            0   \n",
       "2   18  Great time to be in the seafood industry. Nati...            0   \n",
       "3   18  Fresh = healthy. Fresh translates to healthy i...            0   \n",
       "4   18  Shrimp to get social media revamp. The NFI Shr...            0   \n",
       "\n",
       "   indexfirms  \n",
       "0           0  \n",
       "1           0  \n",
       "2           0  \n",
       "3           0  \n",
       "4           0  "
      ]
     },
     "execution_count": 10,
     "metadata": {},
     "output_type": "execute_result"
    }
   ],
   "source": [
    "# columns to indicate that competitor firms or index firms (our firms) appeared in article\n",
    "data['competitors'] = 0\n",
    "data['indexfirms'] = 0\n",
    "data.head()"
   ]
  },
  {
   "cell_type": "code",
   "execution_count": 11,
   "id": "3cec263a",
   "metadata": {},
   "outputs": [],
   "source": [
    "for i in data.index:\n",
    "    # ONLY competitors, but none of the firms in our index\n",
    "    if firms_in_article(competitors, data.at[i, 'texts']) and not firms_in_article(our_firms, data.at[i, 'texts']):\n",
    "        data.loc[i, 'competitors'] = 1\n",
    "    # vice versa\n",
    "    if firms_in_article(our_firms, data.at[i, 'texts']) and not firms_in_article(competitors, data.at[i, 'texts']):\n",
    "        data.loc[i, 'indexfirms'] = 1"
   ]
  },
  {
   "cell_type": "code",
   "execution_count": 12,
   "id": "ea7647ce",
   "metadata": {},
   "outputs": [
    {
     "name": "stdout",
     "output_type": "stream",
     "text": [
      "no. articles with only competitors:  1133\n",
      "no. articles with only our firms:  1112\n"
     ]
    }
   ],
   "source": [
    "print('no. articles with only competitors: ', len(data[data['competitors']==1]))\n",
    "print('no. articles with only our firms: ', len(data[data['indexfirms']==1]))"
   ]
  },
  {
   "cell_type": "code",
   "execution_count": 13,
   "id": "cd318774",
   "metadata": {},
   "outputs": [
    {
     "data": {
      "text/plain": [
       "'bakkafrost q1 mixed despite stronger prices, volume. faroese group finds high prices are a double-edged sword. \" faroese salmon farmer and feed producer bakkafrost on monday announced weaker first quarter results as the company\\'s farming and value-added processing operations underperformed. on the quarter, bakkafrost reported earnings before interest and taxation (ebit) of, flat against the same period last year. margins, however, slipped to 27.8 percent for the group, down from 31.5 percent in the same quarter of 2018. revenues rose sharply, thanks to stronger prices and volumes, to, up 13 percent from last year. the company cited 12 percent higher prices compared with the fourth quarter of 2018. costco restructures massive smoked salmon contractrevenue from farming operations grew to in the first quarter, primarily from higher volume. earnings, meanwhile, rose slightly to. farming margins were at  on the quarter, down from nok 24.15 per kg the year prior. harvest volumes rose 12 percent in the first quarter, with average weights rising to 5.2 kg hog, up 0.5 kg from last year. bakkafrost transferred 1.7 million smolts in the first quarter, down by nearly half the release in the first quarter last year. the company is projecting overall harvest volumes to  for 2019. revenue for the group\\'s value added processing (vap) operations nearly tripled on the quarter. though vap operations were in the black -- a strong turnaround from last year\\'s loss -- the margins were meager at nok 0.37/kg. the volumes used in vap operations climbed sharply, from 17 percent to 34 percent. the company\\'s feed operations saw earnings before interest, taxation, depreciation and amortization (ebita) slide to, and revenues fell to, despite higher volumes of feed sold. \"'"
      ]
     },
     "execution_count": 13,
     "metadata": {},
     "output_type": "execute_result"
    }
   ],
   "source": [
    "# check some articles to verify\n",
    "data[data['indexfirms'] == 1].iloc[367]['texts']"
   ]
  },
  {
   "cell_type": "code",
   "execution_count": 14,
   "id": "a8f996e4",
   "metadata": {},
   "outputs": [
    {
     "data": {
      "text/html": [
       "<div>\n",
       "<style scoped>\n",
       "    .dataframe tbody tr th:only-of-type {\n",
       "        vertical-align: middle;\n",
       "    }\n",
       "\n",
       "    .dataframe tbody tr th {\n",
       "        vertical-align: top;\n",
       "    }\n",
       "\n",
       "    .dataframe thead th {\n",
       "        text-align: right;\n",
       "    }\n",
       "</style>\n",
       "<table border=\"1\" class=\"dataframe\">\n",
       "  <thead>\n",
       "    <tr style=\"text-align: right;\">\n",
       "      <th></th>\n",
       "      <th>titles</th>\n",
       "      <th>dates_day</th>\n",
       "      <th>year</th>\n",
       "      <th>month</th>\n",
       "      <th>day</th>\n",
       "      <th>texts</th>\n",
       "      <th>competitors</th>\n",
       "      <th>indexfirms</th>\n",
       "    </tr>\n",
       "  </thead>\n",
       "  <tbody>\n",
       "    <tr>\n",
       "      <th>0</th>\n",
       "      <td>Chilean salmon prices see a lift in week 1.</td>\n",
       "      <td>2016-01-13</td>\n",
       "      <td>2016</td>\n",
       "      <td>1</td>\n",
       "      <td>13</td>\n",
       "      <td>Chilean salmon prices see a lift in week 1. Pr...</td>\n",
       "      <td>0</td>\n",
       "      <td>0</td>\n",
       "    </tr>\n",
       "    <tr>\n",
       "      <th>1</th>\n",
       "      <td>Nasdaq salmon price index up 48% over past thr...</td>\n",
       "      <td>2016-01-13</td>\n",
       "      <td>2016</td>\n",
       "      <td>1</td>\n",
       "      <td>13</td>\n",
       "      <td>Nasdaq salmon price index up 48% over past thr...</td>\n",
       "      <td>0</td>\n",
       "      <td>0</td>\n",
       "    </tr>\n",
       "    <tr>\n",
       "      <th>2</th>\n",
       "      <td>Great time to be in the seafood industry.</td>\n",
       "      <td>2016-01-18</td>\n",
       "      <td>2016</td>\n",
       "      <td>1</td>\n",
       "      <td>18</td>\n",
       "      <td>Great time to be in the seafood industry. Nati...</td>\n",
       "      <td>0</td>\n",
       "      <td>0</td>\n",
       "    </tr>\n",
       "    <tr>\n",
       "      <th>3</th>\n",
       "      <td>Fresh = healthy.</td>\n",
       "      <td>2016-01-18</td>\n",
       "      <td>2016</td>\n",
       "      <td>1</td>\n",
       "      <td>18</td>\n",
       "      <td>Fresh = healthy. Fresh translates to healthy i...</td>\n",
       "      <td>0</td>\n",
       "      <td>0</td>\n",
       "    </tr>\n",
       "    <tr>\n",
       "      <th>4</th>\n",
       "      <td>Shrimp to get social media revamp.</td>\n",
       "      <td>2016-01-18</td>\n",
       "      <td>2016</td>\n",
       "      <td>1</td>\n",
       "      <td>18</td>\n",
       "      <td>Shrimp to get social media revamp. The NFI Shr...</td>\n",
       "      <td>0</td>\n",
       "      <td>0</td>\n",
       "    </tr>\n",
       "  </tbody>\n",
       "</table>\n",
       "</div>"
      ],
      "text/plain": [
       "                                              titles   dates_day  year  month  \\\n",
       "0        Chilean salmon prices see a lift in week 1.  2016-01-13  2016      1   \n",
       "1  Nasdaq salmon price index up 48% over past thr...  2016-01-13  2016      1   \n",
       "2          Great time to be in the seafood industry.  2016-01-18  2016      1   \n",
       "3                                   Fresh = healthy.  2016-01-18  2016      1   \n",
       "4                 Shrimp to get social media revamp.  2016-01-18  2016      1   \n",
       "\n",
       "   day                                              texts  competitors  \\\n",
       "0   13  Chilean salmon prices see a lift in week 1. Pr...            0   \n",
       "1   13  Nasdaq salmon price index up 48% over past thr...            0   \n",
       "2   18  Great time to be in the seafood industry. Nati...            0   \n",
       "3   18  Fresh = healthy. Fresh translates to healthy i...            0   \n",
       "4   18  Shrimp to get social media revamp. The NFI Shr...            0   \n",
       "\n",
       "   indexfirms  \n",
       "0           0  \n",
       "1           0  \n",
       "2           0  \n",
       "3           0  \n",
       "4           0  "
      ]
     },
     "execution_count": 14,
     "metadata": {},
     "output_type": "execute_result"
    }
   ],
   "source": [
    "del data['texts']\n",
    "data = data.rename(columns={'texts_old': 'texts'})\n",
    "data.head()"
   ]
  },
  {
   "cell_type": "code",
   "execution_count": 15,
   "id": "96595332",
   "metadata": {},
   "outputs": [],
   "source": [
    "data.to_csv('data_comp.csv', encoding = 'utf-8-sig', sep=';', index = False)"
   ]
  }
 ],
 "metadata": {
  "kernelspec": {
   "display_name": "FishText",
   "language": "python",
   "name": "fishtext"
  },
  "language_info": {
   "codemirror_mode": {
    "name": "ipython",
    "version": 3
   },
   "file_extension": ".py",
   "mimetype": "text/x-python",
   "name": "python",
   "nbconvert_exporter": "python",
   "pygments_lexer": "ipython3",
   "version": "3.8.5"
  }
 },
 "nbformat": 4,
 "nbformat_minor": 5
}
